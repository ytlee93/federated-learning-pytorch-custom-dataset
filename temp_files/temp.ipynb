{
 "cells": [
  {
   "cell_type": "code",
   "execution_count": 1,
   "id": "7c8a50ae",
   "metadata": {},
   "outputs": [],
   "source": [
    "import numpy as np\n",
    "from itertools import combinations\n",
    "import collections\n",
    "import pandas as pd\n",
    "import cv2\n",
    "import time\n",
    "from datetime import timedelta"
   ]
  },
  {
   "cell_type": "code",
   "execution_count": 2,
   "id": "fcfef90d",
   "metadata": {},
   "outputs": [],
   "source": [
    "def split(a, n):\n",
    "    k, m = divmod(len(a), n)\n",
    "    return (a[i*k+min(i, m):(i+1)*k+min(i+1, m)] for i in range(n))"
   ]
  },
  {
   "cell_type": "code",
   "execution_count": 3,
   "id": "dd2b45c5",
   "metadata": {},
   "outputs": [
    {
     "name": "stdout",
     "output_type": "stream",
     "text": [
      "In covid non IID: len unsorted labels =  30\n",
      "In covid non IID: unsorted labels =  [0, 0, 0, 0, 0, 0, 0, 0, 0, 0, 1, 1, 1, 1, 1, 1, 1, 1, 1, 1, 2, 2, 2, 2, 2, 2, 2, 2, 2, 2]\n",
      "In covid non IID: shuffled indices =  [ 7 11 13 27 12 26 19  3 24 10  5  4 20  8 25  9 18 16 17  2  1  6 29  0\n",
      " 28 14 15 21 23 22]\n",
      "In covid non IID: indeces_unsortedlabels  [[ 7 11 13 27 12 26 19  3 24 10  5  4 20  8 25  9 18 16 17  2  1  6 29  0\n",
      "  28 14 15 21 23 22]\n",
      " [ 0  1  1  2  1  2  1  0  2  1  0  0  2  0  2  0  1  1  1  0  0  0  2  0\n",
      "   2  1  1  2  2  2]]\n",
      "In covid non IID: indeces_labels  [[ 7  2  9  0  8  4  1  5  3  6 14 10 19 15 12 13 18 16 17 11 28 21 25 23\n",
      "  20 24 26 27 29 22]\n",
      " [ 0  0  0  0  0  0  0  0  0  0  1  1  1  1  1  1  1  1  1  1  2  2  2  2\n",
      "   2  2  2  2  2  2]]\n",
      "index_label:  [[], [], []]\n",
      "index_label:  [[7], [], []]\n",
      "index_label:  [[7, 2], [], []]\n",
      "index_label:  [[7, 2, 9], [], []]\n",
      "index_label:  [[7, 2, 9, 0], [], []]\n",
      "index_label:  [[7, 2, 9, 0, 8], [], []]\n",
      "index_label:  [[7, 2, 9, 0, 8, 4], [], []]\n",
      "index_label:  [[7, 2, 9, 0, 8, 4, 1], [], []]\n",
      "index_label:  [[7, 2, 9, 0, 8, 4, 1, 5], [], []]\n",
      "index_label:  [[7, 2, 9, 0, 8, 4, 1, 5, 3], [], []]\n",
      "index_label:  [[7, 2, 9, 0, 8, 4, 1, 5, 3, 6], [], []]\n",
      "index_label:  [[7, 2, 9, 0, 8, 4, 1, 5, 3, 6], [14], []]\n",
      "index_label:  [[7, 2, 9, 0, 8, 4, 1, 5, 3, 6], [14, 10], []]\n",
      "index_label:  [[7, 2, 9, 0, 8, 4, 1, 5, 3, 6], [14, 10, 19], []]\n",
      "index_label:  [[7, 2, 9, 0, 8, 4, 1, 5, 3, 6], [14, 10, 19, 15], []]\n",
      "index_label:  [[7, 2, 9, 0, 8, 4, 1, 5, 3, 6], [14, 10, 19, 15, 12], []]\n",
      "index_label:  [[7, 2, 9, 0, 8, 4, 1, 5, 3, 6], [14, 10, 19, 15, 12, 13], []]\n",
      "index_label:  [[7, 2, 9, 0, 8, 4, 1, 5, 3, 6], [14, 10, 19, 15, 12, 13, 18], []]\n",
      "index_label:  [[7, 2, 9, 0, 8, 4, 1, 5, 3, 6], [14, 10, 19, 15, 12, 13, 18, 16], []]\n",
      "index_label:  [[7, 2, 9, 0, 8, 4, 1, 5, 3, 6], [14, 10, 19, 15, 12, 13, 18, 16, 17], []]\n",
      "index_label:  [[7, 2, 9, 0, 8, 4, 1, 5, 3, 6], [14, 10, 19, 15, 12, 13, 18, 16, 17, 11], []]\n",
      "index_label:  [[7, 2, 9, 0, 8, 4, 1, 5, 3, 6], [14, 10, 19, 15, 12, 13, 18, 16, 17, 11], [28]]\n",
      "index_label:  [[7, 2, 9, 0, 8, 4, 1, 5, 3, 6], [14, 10, 19, 15, 12, 13, 18, 16, 17, 11], [28, 21]]\n",
      "index_label:  [[7, 2, 9, 0, 8, 4, 1, 5, 3, 6], [14, 10, 19, 15, 12, 13, 18, 16, 17, 11], [28, 21, 25]]\n",
      "index_label:  [[7, 2, 9, 0, 8, 4, 1, 5, 3, 6], [14, 10, 19, 15, 12, 13, 18, 16, 17, 11], [28, 21, 25, 23]]\n",
      "index_label:  [[7, 2, 9, 0, 8, 4, 1, 5, 3, 6], [14, 10, 19, 15, 12, 13, 18, 16, 17, 11], [28, 21, 25, 23, 20]]\n",
      "index_label:  [[7, 2, 9, 0, 8, 4, 1, 5, 3, 6], [14, 10, 19, 15, 12, 13, 18, 16, 17, 11], [28, 21, 25, 23, 20, 24]]\n",
      "index_label:  [[7, 2, 9, 0, 8, 4, 1, 5, 3, 6], [14, 10, 19, 15, 12, 13, 18, 16, 17, 11], [28, 21, 25, 23, 20, 24, 26]]\n",
      "index_label:  [[7, 2, 9, 0, 8, 4, 1, 5, 3, 6], [14, 10, 19, 15, 12, 13, 18, 16, 17, 11], [28, 21, 25, 23, 20, 24, 26, 27]]\n",
      "index_label:  [[7, 2, 9, 0, 8, 4, 1, 5, 3, 6], [14, 10, 19, 15, 12, 13, 18, 16, 17, 11], [28, 21, 25, 23, 20, 24, 26, 27, 29]]\n",
      "index_label:  [[7, 2, 9, 0, 8, 4, 1, 5, 3, 6], [14, 10, 19, 15, 12, 13, 18, 16, 17, 11], [28, 21, 25, 23, 20, 24, 26, 27, 29, 22]]\n",
      "(0, 1)\n",
      "(0, 2)\n",
      "(1, 2)\n",
      "comb  [(0, 1), (0, 2), (1, 2)]\n",
      "client_classes  [[0 1]\n",
      " [0 2]\n",
      " [1 2]\n",
      " [0 1]\n",
      " [0 2]\n",
      " [1 2]\n",
      " [0 1]\n",
      " [0 2]\n",
      " [1 2]\n",
      " [0 1]]\n",
      "label count  Counter({0: 7, 1: 7, 2: 6})\n",
      "users_dict  {0: [], 1: [], 2: [], 3: [], 4: [], 5: [], 6: [], 7: [], 8: [], 9: []}\n",
      "users_dict:  {0: {11, 6}, 1: {3, 22}, 2: {17, 29}, 3: {16, 5}, 4: {1, 26, 27}, 5: {24, 18, 20}, 6: {8, 13, 4, 12}, 7: {0, 9, 25, 23}, 8: {19, 28, 21, 15}, 9: {2, 10, 14, 7}}\n"
     ]
    }
   ],
   "source": [
    "c_num = 3\n",
    "num_users = 10\n",
    "noniid_c = 2\n",
    "classes, images = c_num, int(30/c_num)\n",
    "classes_indx = [i for i in range(classes)]\n",
    "users_dict = {i: [] for i in range(num_users)}\n",
    "indeces = np.arange(classes*images)\n",
    "unsorted_labels = [0,0,0,0,0,0,0,0,0,0,1,1,1,1,1,1,1,1,1,1,2,2,2,2,2,2,2,2,2,2]\n",
    "print(\"In covid non IID: len unsorted labels = \", len(unsorted_labels))\n",
    "print(\"In covid non IID: unsorted labels = \", unsorted_labels)\n",
    "\n",
    "indeces_unsortedlabels = np.vstack((indeces, unsorted_labels))\n",
    "shuffled_indices = np.random.permutation(len(indeces_unsortedlabels[0]))\n",
    "print(\"In covid non IID: shuffled indices = \", shuffled_indices)\n",
    "indeces_unsortedlabels[0] = indeces_unsortedlabels[0][shuffled_indices]\n",
    "indeces_unsortedlabels[1] = indeces_unsortedlabels[1][shuffled_indices]\n",
    "print(\"In covid non IID: indeces_unsortedlabels \", indeces_unsortedlabels)\n",
    "indeces_labels = indeces_unsortedlabels[:, indeces_unsortedlabels[1, :].argsort()]\n",
    "print(\"In covid non IID: indeces_labels \", indeces_labels)\n",
    "indeces = indeces_labels[0, :]\n",
    "indeces_labels.astype(int)\n",
    "indeces.astype(int)\n",
    "#     print(indeces_labels)\n",
    "    \n",
    "# label list with index\n",
    "index_label = [[] for i in range(c_num)]\n",
    "print(\"index_label: \", index_label)\n",
    "for i in range(len(indeces_labels[1])):\n",
    "    index_label[indeces_labels[1][i]].append(indeces_labels[0][i])\n",
    "    print(\"index_label: \", index_label)\n",
    "        \n",
    "client_classes = []\n",
    "comb = []\n",
    "for i in list(combinations(list(range(0,c_num)), noniid_c)):\n",
    "    print(i)\n",
    "    comb.append(i)\n",
    "print(\"comb \", comb)\n",
    "\n",
    "# classes of client\n",
    "for i in range(num_users):\n",
    "    client_classes.append(comb[i%c_num])\n",
    "client_classes = np.array(client_classes)\n",
    "c = client_classes.flatten()\n",
    "print(\"client_classes \", client_classes)\n",
    "\n",
    "# count of labels\n",
    "label_count = collections.Counter(c)\n",
    "print(\"label count \", label_count)\n",
    "\n",
    "for i in range(len(label_count)):\n",
    "    index_label[i] = split(index_label[i], label_count[i])\n",
    "    index_label[i] = list(index_label[i])\n",
    "    \n",
    "temp = []\n",
    "#     users_dict = dict.fromkeys(range(10), [])\n",
    "print(\"users_dict \", users_dict)\n",
    "for i in range(len(client_classes)):\n",
    "    for j in range(len(client_classes[i])):\n",
    "        cur_cls = client_classes[i][j]\n",
    "        temp = index_label[cur_cls].pop()\n",
    "#         print(\"temp \", temp)\n",
    "        users_dict[i] = np.concatenate((users_dict[i], np.array(temp)), axis=0).astype(int)\n",
    "\n",
    "for i in range(len(users_dict)):\n",
    "    users_dict[i] = set(users_dict[i])\n",
    "\n",
    "print(\"users_dict: \", users_dict)"
   ]
  },
  {
   "cell_type": "code",
   "execution_count": null,
   "id": "b1556d70",
   "metadata": {},
   "outputs": [],
   "source": []
  },
  {
   "cell_type": "code",
   "execution_count": 4,
   "id": "94c3083d",
   "metadata": {},
   "outputs": [
    {
     "name": "stdout",
     "output_type": "stream",
     "text": [
      "In covidDataset init len data_info =  3012\n",
      "self.image shape 3012\n",
      "self.label shape 3012\n"
     ]
    }
   ],
   "source": [
    "start = time.time()\n",
    "data_info = pd.read_csv('./train.csv', header=None)\n",
    "print(\"In covidDataset init len data_info = \", len(data_info))\n",
    "img = []\n",
    "lb = []\n",
    "for i in range(len(data_info)):\n",
    "    img_name = data_info.iloc[i, 0]\n",
    "    image = cv2.imread(img_name, cv2.IMREAD_GRAYSCALE)\n",
    "    image = cv2.resize(image, (32,32))\n",
    "    label = data_info.iloc[i, 1]\n",
    "    label = np.array([label])\n",
    "    img.append(image)\n",
    "    lb.append(label)\n",
    "print(\"self.image shape\", len(img))\n",
    "print(\"self.label shape\", len(lb))\n"
   ]
  },
  {
   "cell_type": "code",
   "execution_count": 5,
   "id": "4227ade6",
   "metadata": {},
   "outputs": [
    {
     "name": "stdout",
     "output_type": "stream",
     "text": [
      "(3012, 32, 32)\n"
     ]
    }
   ],
   "source": [
    "image = np.asarray(img)\n",
    "print(image.shape)"
   ]
  },
  {
   "cell_type": "code",
   "execution_count": 7,
   "id": "ca29a9eb",
   "metadata": {},
   "outputs": [
    {
     "name": "stdout",
     "output_type": "stream",
     "text": [
      "(3012, 1)\n"
     ]
    }
   ],
   "source": [
    "lb = np.asarray(lb)\n",
    "print(lb.shape)"
   ]
  },
  {
   "cell_type": "code",
   "execution_count": 6,
   "id": "7f85f200",
   "metadata": {},
   "outputs": [
    {
     "name": "stdout",
     "output_type": "stream",
     "text": [
      "* [read_time] =  0:00:18\n"
     ]
    }
   ],
   "source": [
    "read_time = round(time.time()-start)\n",
    "print(\"* [read_time] = \", str(timedelta(seconds=(read_time))))"
   ]
  }
 ],
 "metadata": {
  "kernelspec": {
   "display_name": "Python 3",
   "language": "python",
   "name": "python3"
  },
  "language_info": {
   "codemirror_mode": {
    "name": "ipython",
    "version": 3
   },
   "file_extension": ".py",
   "mimetype": "text/x-python",
   "name": "python",
   "nbconvert_exporter": "python",
   "pygments_lexer": "ipython3",
   "version": "3.7.10"
  }
 },
 "nbformat": 4,
 "nbformat_minor": 5
}
