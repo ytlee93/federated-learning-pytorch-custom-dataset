{
 "cells": [
  {
   "cell_type": "code",
   "execution_count": 8,
   "id": "3212f7de",
   "metadata": {},
   "outputs": [],
   "source": [
    "from torch.utils.tensorboard import SummaryWriter\n",
    "import numpy as np\n",
    "import random\n",
    "import os"
   ]
  },
  {
   "cell_type": "code",
   "execution_count": 5,
   "id": "5d8e8b64",
   "metadata": {},
   "outputs": [],
   "source": [
    "writer = SummaryWriter()"
   ]
  },
  {
   "cell_type": "code",
   "execution_count": 6,
   "id": "5453e075",
   "metadata": {},
   "outputs": [
    {
     "data": {
      "text/plain": [
       "array([21, 20, 13, 10,  3, 22, 21, 27, 11,  8, 20, 10,  0, 20, 13, 15, 25,\n",
       "       27, 19,  2, 20,  1, 20,  2,  8,  2,  3, 11, 24,  6, 21, 29, 27,  5,\n",
       "        5, 28, 19,  5, 18, 17,  3, 30,  1, 13, 24,  5, 26,  7, 10,  6, 11,\n",
       "       20, 13, 29,  9,  6,  0,  4,  0, 20,  3,  5, 24, 30, 14, 24, 27, 23,\n",
       "       17, 10, 30,  7,  0, 28,  3, 21, 16, 30, 16, 24, 18,  6, 17,  0, 16,\n",
       "        9,  9, 25,  3, 12, 28, 26, 25,  2,  6,  4, 22, 11, 19, 11])"
      ]
     },
     "execution_count": 6,
     "metadata": {},
     "output_type": "execute_result"
    }
   ],
   "source": [
    "x = np.arange(100)\n",
    "y = []\n",
    "for i in range(100):\n",
    "    n = random.randint(0,30)\n",
    "    y.append(n)\n",
    "np.array(y)"
   ]
  },
  {
   "cell_type": "code",
   "execution_count": 7,
   "id": "d592f79d",
   "metadata": {},
   "outputs": [],
   "source": [
    "for i in range(100):\n",
    "    writer.add_scalar(\"Accuracy/train\", y[i], x[i])\n",
    "writer.flush()"
   ]
  },
  {
   "cell_type": "code",
   "execution_count": 9,
   "id": "09d01d71",
   "metadata": {},
   "outputs": [
    {
     "data": {
      "text/plain": [
       "'/home/citi302/Desktop/Codefolder/FL_DP_covid'"
      ]
     },
     "execution_count": 9,
     "metadata": {},
     "output_type": "execute_result"
    }
   ],
   "source": [
    "os.getcwd()"
   ]
  },
  {
   "cell_type": "code",
   "execution_count": null,
   "id": "7491e3f2",
   "metadata": {},
   "outputs": [],
   "source": []
  }
 ],
 "metadata": {
  "kernelspec": {
   "display_name": "Python 3",
   "language": "python",
   "name": "python3"
  },
  "language_info": {
   "codemirror_mode": {
    "name": "ipython",
    "version": 3
   },
   "file_extension": ".py",
   "mimetype": "text/x-python",
   "name": "python",
   "nbconvert_exporter": "python",
   "pygments_lexer": "ipython3",
   "version": "3.7.10"
  }
 },
 "nbformat": 4,
 "nbformat_minor": 5
}
