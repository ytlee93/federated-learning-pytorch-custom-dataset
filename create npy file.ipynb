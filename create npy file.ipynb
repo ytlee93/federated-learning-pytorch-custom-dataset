{
 "cells": [
  {
   "cell_type": "code",
   "execution_count": null,
   "id": "20a50e2a",
   "metadata": {},
   "outputs": [],
   "source": [
    "import numpy as np\n",
    "import pandas as pd\n",
    "import cv2\n",
    "import matplotlib.pyplot as plt\n",
    "from PIL import Image  "
   ]
  },
  {
   "cell_type": "code",
   "execution_count": null,
   "id": "dc022939",
   "metadata": {},
   "outputs": [],
   "source": [
    "# delete files in folder\n",
    "\n",
    "# import os\n",
    "# import glob\n",
    "\n",
    "# files = glob.glob('./FinalCovid19Dataset_npy/test/2/*')\n",
    "# for f in files:\n",
    "#     os.remove(f)"
   ]
  },
  {
   "cell_type": "code",
   "execution_count": null,
   "id": "16a13002",
   "metadata": {},
   "outputs": [],
   "source": [
    "data_info = pd.read_csv('./train.csv', header=None)"
   ]
  },
  {
   "cell_type": "code",
   "execution_count": null,
   "id": "9b2de233",
   "metadata": {},
   "outputs": [],
   "source": [
    "print(data_info)\n",
    "print(data_info.shape)\n",
    "print(data_info.shape[0])"
   ]
  },
  {
   "cell_type": "code",
   "execution_count": null,
   "id": "0235e1f2",
   "metadata": {},
   "outputs": [],
   "source": [
    "print(data_info[0][0])\n",
    "print(data_info[1][0])\n",
    "print(data_info[0][5])\n",
    "print(data_info[1][5])"
   ]
  },
  {
   "cell_type": "code",
   "execution_count": null,
   "id": "f173b514",
   "metadata": {},
   "outputs": [],
   "source": [
    "img = cv2.imread(data_info[0][0])\n",
    "print(\"original image size: \", img.shape)\n",
    "img = cv2.resize(img, (32,32))\n",
    "plt.imshow(img)\n",
    "img = img.transpose((2, 0, 1))\n",
    "\n",
    "print(img)\n",
    "print(type(img))\n",
    "print(img.shape)"
   ]
  },
  {
   "cell_type": "code",
   "execution_count": null,
   "id": "30e68c1e",
   "metadata": {},
   "outputs": [],
   "source": [
    "# np.save('./FinalCovid19Dataset_npy/0/img.npy', img)\n",
    "# img_temp = np.load('./FinalCovid19Dataset_npy/0/img.npy')"
   ]
  },
  {
   "cell_type": "code",
   "execution_count": null,
   "id": "c2b3bc77",
   "metadata": {},
   "outputs": [],
   "source": [
    "for i in range(data_info.shape[0]):\n",
    "    # read image by cv2\n",
    "    img = cv2.imread(data_info[0][i])\n",
    "    # resize image to (32, 32, 3)\n",
    "    img = cv2.resize(img, (32,32))\n",
    "    # transpose image dimensions (3, 32, 32) for model training\n",
    "    img = img.transpose((2, 0, 1))\n",
    "    np.save('./FinalCovid19Dataset_npy/train/'+ str(data_info[1][i]) + '/' + str(i) + '.npy', img)"
   ]
  },
  {
   "cell_type": "code",
   "execution_count": null,
   "id": "bc062694",
   "metadata": {},
   "outputs": [],
   "source": []
  },
  {
   "cell_type": "code",
   "execution_count": null,
   "id": "9eee64d2",
   "metadata": {},
   "outputs": [],
   "source": []
  }
 ],
 "metadata": {
  "kernelspec": {
   "display_name": "Python 3",
   "language": "python",
   "name": "python3"
  },
  "language_info": {
   "codemirror_mode": {
    "name": "ipython",
    "version": 3
   },
   "file_extension": ".py",
   "mimetype": "text/x-python",
   "name": "python",
   "nbconvert_exporter": "python",
   "pygments_lexer": "ipython3",
   "version": "3.7.10"
  }
 },
 "nbformat": 4,
 "nbformat_minor": 5
}
