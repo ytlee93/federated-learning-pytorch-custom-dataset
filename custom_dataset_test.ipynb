{
 "cells": [
  {
   "cell_type": "code",
   "execution_count": 2,
   "id": "1167c8fd",
   "metadata": {},
   "outputs": [],
   "source": [
    "import torch\n",
    "import torch.nn as nn\n",
    "import torch.nn.functional as F\n",
    "import torch.optim as optim\n",
    "from torchvision import datasets, transforms\n",
    "from torch.utils.data import DataLoader, Dataset\n",
    "import syft as sy\n",
    "import copy\n",
    "import numpy as np\n",
    "import time\n",
    "from opacus import PrivacyEngine\n",
    "from torch.utils.tensorboard import SummaryWriter\n",
    "import random\n",
    "import collections\n",
    "\n",
    "import importlib\n",
    "importlib.import_module('FLDataset')\n",
    "from FLDataset import load_dataset, getActualImgs, CovidDataset, Rescale, ToTensor\n",
    "from utils import averageModels"
   ]
  },
  {
   "cell_type": "code",
   "execution_count": null,
   "id": "6b4f8514",
   "metadata": {},
   "outputs": [],
   "source": [
    "writer = SummaryWriter()"
   ]
  },
  {
   "cell_type": "code",
   "execution_count": null,
   "id": "1d1d3121",
   "metadata": {},
   "outputs": [],
   "source": [
    "dataset = CovidDataset(csv_path='./train.csv', transform=transforms.Compose([Rescale(64), ToTensor()]))\n",
    "print(type(dataset))"
   ]
  },
  {
   "cell_type": "code",
   "execution_count": null,
   "id": "267758ce",
   "metadata": {},
   "outputs": [],
   "source": [
    "print(len(dataset))"
   ]
  },
  {
   "cell_type": "code",
   "execution_count": null,
   "id": "d45d4897",
   "metadata": {},
   "outputs": [],
   "source": [
    "for i in range(len(dataset)):\n",
    "    item = dataset.__getitem__(i)\n",
    "    print(\"item \", i , \" image shape= \", item['image'].shape)"
   ]
  },
  {
   "cell_type": "code",
   "execution_count": null,
   "id": "dae11af3",
   "metadata": {},
   "outputs": [],
   "source": [
    "dset = getActualImgs(dataset, [0,1,2], 1)\n",
    "print(type(dset))"
   ]
  },
  {
   "cell_type": "code",
   "execution_count": null,
   "id": "9a10d9a9",
   "metadata": {
    "scrolled": true
   },
   "outputs": [],
   "source": [
    "for batch_idx, (data, target) in enumerate(dset):\n",
    "    print(data)"
   ]
  },
  {
   "cell_type": "code",
   "execution_count": 4,
   "id": "6c7e5f3e",
   "metadata": {},
   "outputs": [
    {
     "name": "stdout",
     "output_type": "stream",
     "text": [
      "[0 1] [1 2] [1 0]\n"
     ]
    }
   ],
   "source": [
    "\n",
    "a = np.random.choice(3, 2, replace=False)\n",
    "b = np.random.choice(3, 2, replace=False)\n",
    "c = np.random.choice(3, 2, replace=False)\n",
    "print(a, b, c)\n",
    "# collections.Counter(a)"
   ]
  },
  {
   "cell_type": "code",
   "execution_count": 7,
   "id": "02c7996c",
   "metadata": {},
   "outputs": [
    {
     "name": "stdout",
     "output_type": "stream",
     "text": [
      "[0, 1, 2]\n"
     ]
    }
   ],
   "source": [
    "classes_indx = [i for i in range(3)]\n",
    "print(classes_indx)"
   ]
  },
  {
   "cell_type": "code",
   "execution_count": 134,
   "id": "f35092c8",
   "metadata": {},
   "outputs": [
    {
     "name": "stdout",
     "output_type": "stream",
     "text": [
      "classes indx  [0, 1, 2]\n",
      "users_dict {0: array([], dtype=int64), 1: array([], dtype=int64), 2: array([], dtype=int64), 3: array([], dtype=int64), 4: array([], dtype=int64), 5: array([], dtype=int64), 6: array([], dtype=int64), 7: array([], dtype=int64), 8: array([], dtype=int64), 9: array([], dtype=int64)}\n"
     ]
    }
   ],
   "source": [
    "# non iid data test\n",
    "c_num = 3\n",
    "num_users = 10\n",
    "classes, images = c_num, int(300/c_num)\n",
    "classes_indx = [i for i in range(classes)]\n",
    "print(\"classes indx \", classes_indx)\n",
    "users_dict = {i: np.array([]).astype(int) for i in range(num_users)}\n",
    "print(\"users_dict\", users_dict)\n",
    "indeces = np.arange(classes*images)\n",
    "unsorted_labels = np.random.choice(3, 300)\n",
    "\n",
    "indeces_unsortedlabels = np.vstack((indeces, unsorted_labels))\n",
    "# print(\"indeces_unsortedlabels before shuffle: \", indeces_unsortedlabels)\n",
    "shuffled_indices = np.random.permutation(len(indeces_unsortedlabels[0]))\n",
    "indeces_unsortedlabels[0] = indeces_unsortedlabels[0][shuffled_indices]\n",
    "indeces_unsortedlabels[1] = indeces_unsortedlabels[1][shuffled_indices]\n",
    "# print(\"indeces_unsortedlabels after shuffle: \", indeces_unsortedlabels)\n",
    "indeces_labels = indeces_unsortedlabels[:, indeces_unsortedlabels[1, :].argsort()]\n",
    "indeces = indeces_labels[0, :]\n",
    "indeces_labels.astype(int)\n",
    "indeces.astype(int)\n",
    "\n",
    "# list stored by label \n",
    "index_label = [[] for i in range(c_num)]\n",
    "for i in range(len(indeces_labels[1])):\n",
    "    index_label[indeces_labels[1][i]].append(indeces_labels[0][i])\n",
    "# print(index_label)\n",
    "# print(len(index_label))"
   ]
  },
  {
   "cell_type": "code",
   "execution_count": 135,
   "id": "19bf37f0",
   "metadata": {},
   "outputs": [
    {
     "name": "stdout",
     "output_type": "stream",
     "text": [
      "(0, 1)\n",
      "(0, 2)\n",
      "(1, 2)\n",
      "[(0, 1), (0, 2), (1, 2)]\n",
      "[[0 1]\n",
      " [0 2]\n",
      " [1 2]\n",
      " [0 1]\n",
      " [0 2]\n",
      " [1 2]\n",
      " [0 1]\n",
      " [0 2]\n",
      " [1 2]\n",
      " [0 1]]\n",
      "Counter({0: 7, 1: 7, 2: 6})\n"
     ]
    }
   ],
   "source": [
    "from itertools import combinations\n",
    "client_classes = []\n",
    "comb = []\n",
    "for i in list(combinations(list(range(0,c_num)), 2)):\n",
    "    print(i)\n",
    "    comb.append(i)\n",
    "print(comb)\n",
    "\n",
    "# classes of client\n",
    "for i in range(num_users):\n",
    "    client_classes.append(comb[i%c_num])\n",
    "client_classes = np.array(client_classes)\n",
    "c = client_classes.flatten()\n",
    "print(client_classes)\n",
    "\n",
    "# count of labels\n",
    "label_count = collections.Counter(c)\n",
    "print(label_count)"
   ]
  },
  {
   "cell_type": "code",
   "execution_count": 136,
   "id": "16bd8d4d",
   "metadata": {},
   "outputs": [],
   "source": [
    "def split(a, n):\n",
    "    k, m = divmod(len(a), n)\n",
    "    return (a[i*k+min(i, m):(i+1)*k+min(i+1, m)] for i in range(n))"
   ]
  },
  {
   "cell_type": "code",
   "execution_count": 137,
   "id": "e415367c",
   "metadata": {},
   "outputs": [],
   "source": [
    "for i in range(len(label_count)):\n",
    "    index_label[i] = split(index_label[i], label_count[i])\n",
    "    index_label[i] = list(index_label[i])"
   ]
  },
  {
   "cell_type": "code",
   "execution_count": 138,
   "id": "cd810cd5",
   "metadata": {},
   "outputs": [
    {
     "name": "stdout",
     "output_type": "stream",
     "text": [
      "[[249, 131, 95, 54, 297, 260, 113, 139, 290, 158, 129, 243, 5, 269, 166, 284, 135], [165, 148, 108, 258, 110, 72, 183, 45, 282, 88, 77, 168, 55, 127, 94, 195, 170], [76, 286, 270, 1, 102, 25, 11, 32, 215, 201, 163, 57, 140, 69, 169, 27, 117], [238, 90, 23, 256, 237, 235, 141, 10, 71, 197, 133, 190, 298, 136, 178, 206], [112, 289, 146, 111, 29, 292, 149, 261, 119, 208, 49, 252, 97, 172, 211, 86], [193, 191, 279, 262, 80, 120, 15, 179, 103, 263, 218, 8, 12, 281, 162, 224], [231, 198, 93, 247, 155, 67, 26, 157, 28, 288, 204, 104, 105, 2, 37, 9]]\n",
      "[[194, 128, 152, 192, 240, 99, 221, 122, 205, 24, 219, 210, 177], [41, 100, 48, 92, 62, 241, 109, 161, 244, 274, 34, 98, 236], [126, 276, 36, 18, 287, 114, 251, 91, 107, 273, 229, 228, 145], [245, 278, 171, 143, 13, 182, 46, 159, 242, 181, 87, 200, 246], [220, 151, 130, 295, 254, 30, 250, 142, 285, 3, 121, 203], [132, 283, 78, 16, 101, 180, 14, 176, 51, 280, 81, 123], [291, 253, 0, 234, 209, 275, 296, 43, 4, 39, 70, 230]]\n",
      "[[227, 134, 17, 216, 207, 40, 153, 294, 22, 202, 160, 232, 212, 222, 56, 138, 21], [147, 267, 64, 164, 217, 125, 226, 265, 239, 52, 59, 68, 272, 6, 65, 7], [116, 33, 257, 268, 255, 214, 53, 271, 196, 115, 213, 106, 185, 154, 299, 38], [84, 58, 124, 187, 31, 85, 66, 35, 186, 188, 50, 259, 20, 61, 277, 173], [137, 19, 47, 82, 167, 150, 63, 44, 175, 199, 73, 174, 74, 184, 79, 189], [293, 233, 225, 60, 248, 118, 144, 266, 223, 42, 89, 156, 264, 75, 96, 83]]\n"
     ]
    }
   ],
   "source": [
    "# for i in index_label:\n",
    "#     print(i)"
   ]
  },
  {
   "cell_type": "code",
   "execution_count": 139,
   "id": "a78646bf",
   "metadata": {},
   "outputs": [
    {
     "name": "stdout",
     "output_type": "stream",
     "text": [
      "users_dict  {0: [], 1: [], 2: [], 3: [], 4: [], 5: [], 6: [], 7: [], 8: [], 9: []}\n"
     ]
    }
   ],
   "source": [
    "temp = []\n",
    "users_dict = dict.fromkeys(range(10), [])\n",
    "print(\"users_dict \", users_dict)\n",
    "for i in range(len(client_classes)):\n",
    "    for j in range(len(client_classes[i])):\n",
    "        cur_cls = client_classes[i][j]\n",
    "        temp = index_label[cur_cls].pop()\n",
    "#         print(\"temp \", temp)\n",
    "        users_dict[i] = np.concatenate((users_dict[i], np.array(temp)), axis=0).astype(int)\n",
    "\n",
    "for i in range(len(users_dict)):\n",
    "    users_dict[i] = set(users_dict[i])"
   ]
  },
  {
   "cell_type": "code",
   "execution_count": 140,
   "id": "d5c9cc8a",
   "metadata": {},
   "outputs": [
    {
     "name": "stdout",
     "output_type": "stream",
     "text": [
      "{0: {0, 2, 4, 9, 275, 26, 155, 28, 157, 288, 291, 37, 39, 296, 43, 67, 198, 70, 204, 209, 93, 230, 231, 104, 105, 234, 247, 253}, 1: {262, 263, 8, 264, 266, 12, 15, 144, 279, 281, 156, 162, 293, 42, 179, 60, 191, 193, 75, 80, 83, 89, 218, 223, 224, 225, 248, 96, 103, 233, 118, 120}, 2: {132, 137, 14, 16, 19, 150, 280, 283, 167, 44, 174, 47, 176, 175, 51, 180, 184, 189, 63, 199, 73, 74, 78, 79, 81, 82, 101, 123}, 3: {130, 3, 261, 142, 146, 149, 151, 29, 30, 285, 289, 292, 295, 172, 49, 203, 208, 211, 86, 220, 97, 111, 112, 119, 121, 250, 252, 254}, 4: {256, 259, 133, 136, 10, 141, 20, 277, 23, 31, 35, 298, 173, 178, 50, 58, 187, 186, 188, 190, 61, 66, 197, 71, 206, 84, 85, 90, 235, 237, 238, 124}, 5: {257, 268, 13, 143, 271, 278, 154, 159, 33, 38, 171, 299, 46, 181, 182, 53, 185, 196, 200, 213, 214, 87, 106, 242, 115, 116, 245, 246, 255}, 6: {1, 11, 140, 270, 273, 18, 145, 276, 25, 27, 286, 287, 32, 163, 36, 169, 57, 69, 201, 76, 215, 91, 228, 229, 102, 107, 114, 117, 251, 126}, 7: {258, 6, 7, 265, 267, 272, 147, 148, 282, 164, 165, 168, 170, 45, 52, 55, 183, 59, 64, 65, 195, 68, 72, 77, 88, 217, 94, 226, 108, 110, 239, 125, 127}, 8: {134, 138, 17, 274, 21, 22, 153, 160, 161, 34, 294, 40, 41, 48, 56, 62, 202, 207, 212, 216, 92, 222, 98, 227, 100, 232, 236, 109, 241, 244}, 9: {128, 129, 131, 260, 5, 135, 139, 269, 152, 24, 284, 158, 290, 166, 297, 177, 54, 192, 194, 205, 210, 219, 221, 95, 99, 240, 113, 243, 249, 122}}\n"
     ]
    }
   ],
   "source": [
    "print(users_dict)"
   ]
  },
  {
   "cell_type": "code",
   "execution_count": null,
   "id": "5b028759",
   "metadata": {},
   "outputs": [],
   "source": [
    "indeces = [int(i) for i in indeces]\n",
    "print(indeces)\n",
    "for i in range(num_users):\n",
    "    np.random.seed(i)\n",
    "    temp = set(np.random.choice(classes_indx, 2, replace=False))\n",
    "    print(temp)\n",
    "    classes_indx = list(set(classes_indx) - temp)\n",
    "    for t in temp:\n",
    "        users_dict[i] = np.concatenate((users_dict[i], indeces[t*images:(t+1)*images]), axis=0)"
   ]
  },
  {
   "cell_type": "code",
   "execution_count": null,
   "id": "7b7e0f0a",
   "metadata": {},
   "outputs": [],
   "source": []
  }
 ],
 "metadata": {
  "kernelspec": {
   "display_name": "Python 3",
   "language": "python",
   "name": "python3"
  },
  "language_info": {
   "codemirror_mode": {
    "name": "ipython",
    "version": 3
   },
   "file_extension": ".py",
   "mimetype": "text/x-python",
   "name": "python",
   "nbconvert_exporter": "python",
   "pygments_lexer": "ipython3",
   "version": "3.7.10"
  }
 },
 "nbformat": 4,
 "nbformat_minor": 5
}
