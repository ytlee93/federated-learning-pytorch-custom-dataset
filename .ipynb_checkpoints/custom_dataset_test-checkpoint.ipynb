{
 "cells": [
  {
   "cell_type": "code",
   "execution_count": null,
   "id": "9198239d",
   "metadata": {},
   "outputs": [],
   "source": [
    "import torch\n",
    "import torch.nn as nn\n",
    "import torch.nn.functional as F\n",
    "import torch.optim as optim\n",
    "from torchvision import datasets, transforms\n",
    "from torch.utils.data import DataLoader, Dataset\n",
    "import syft as sy\n",
    "import copy\n",
    "import numpy as np\n",
    "import time\n",
    "from opacus import PrivacyEngine\n",
    "from torch.utils.tensorboard import SummaryWriter\n",
    "import random\n",
    "\n",
    "import importlib\n",
    "importlib.import_module('FLDataset')\n",
    "from FLDataset import load_dataset, getActualImgs, CovidDataset, Rescale, ToTensor\n",
    "from utils import averageModels"
   ]
  },
  {
   "cell_type": "code",
   "execution_count": null,
   "id": "9c588f68",
   "metadata": {},
   "outputs": [],
   "source": [
    "writer = SummaryWriter()"
   ]
  },
  {
   "cell_type": "code",
   "execution_count": null,
   "id": "b4c39098",
   "metadata": {},
   "outputs": [],
   "source": [
    "dataset = CovidDataset(csv_path='./train.csv', transform=transforms.Compose([Rescale(64), ToTensor()]))\n",
    "print(type(dataset))"
   ]
  },
  {
   "cell_type": "code",
   "execution_count": null,
   "id": "674d5e22",
   "metadata": {},
   "outputs": [],
   "source": [
    "print(len(dataset))"
   ]
  },
  {
   "cell_type": "code",
   "execution_count": null,
   "id": "602aacc8",
   "metadata": {},
   "outputs": [],
   "source": [
    "for i in range(len(dataset)):\n",
    "    item = dataset.__getitem__(i)\n",
    "    print(\"item \", i , \" image shape= \", item['image'].shape)"
   ]
  },
  {
   "cell_type": "code",
   "execution_count": null,
   "id": "407f7ed9",
   "metadata": {},
   "outputs": [],
   "source": [
    "dset = getActualImgs(dataset, [0,1,2], 1)\n",
    "print(type(dset))"
   ]
  },
  {
   "cell_type": "code",
   "execution_count": null,
   "id": "7dbe90d1",
   "metadata": {
    "scrolled": true
   },
   "outputs": [],
   "source": [
    "for batch_idx, (data, target) in enumerate(dset):\n",
    "    print(data)"
   ]
  },
  {
   "cell_type": "code",
   "execution_count": null,
   "id": "1d1aa0df",
   "metadata": {},
   "outputs": [],
   "source": [
    "import collections\n",
    "a = np.random.choice(3, 2, replace=False)\n",
    "b = np.random.choice(3, 2, replace=False)\n",
    "c = np.random.choice(3, 2, replace=False)\n",
    "print(a, b, c)\n",
    "# collections.Counter(a)"
   ]
  },
  {
   "cell_type": "code",
   "execution_count": null,
   "id": "5c38ffd9",
   "metadata": {},
   "outputs": [],
   "source": [
    "classes_indx = [i for i in range(3)]\n",
    "print(classes_indx)"
   ]
  },
  {
   "cell_type": "code",
   "execution_count": null,
   "id": "f9630438",
   "metadata": {},
   "outputs": [],
   "source": [
    "# non iid data test\n",
    "c_num = 3\n",
    "num_users = 10\n",
    "classes, images = c_num, int(300/c_num)\n",
    "classes_indx = [i for i in range(classes)]\n",
    "print(\"classes indx \", classes_indx)\n",
    "users_dict = {i: np.array([]).astype(int) for i in range(num_users)}\n",
    "print(\"users_dict\", users_dict)\n",
    "indeces = np.arange(classes*images)\n",
    "unsorted_labels = np.random.choice(3, 300)\n",
    "\n",
    "indeces_unsortedlabels = np.vstack((indeces, unsorted_labels))\n",
    "print(\"indeces_unsortedlabels before shuffle: \", indeces_unsortedlabels)\n",
    "shuffled_indices = np.random.permutation(len(indeces_unsortedlabels[0]))\n",
    "indeces_unsortedlabels[0] = indeces_unsortedlabels[0][shuffled_indices]\n",
    "indeces_unsortedlabels[1] = indeces_unsortedlabels[1][shuffled_indices]\n",
    "print(\"indeces_unsortedlabels after shuffle: \", indeces_unsortedlabels)\n",
    "indeces_labels = indeces_unsortedlabels[:, indeces_unsortedlabels[1, :].argsort()]\n",
    "indeces = indeces_labels[0, :]\n",
    "indeces_labels.astype(int)\n",
    "indeces.astype(int)\n",
    "\n",
    "index_label = [[] for i in range(c_num)]\n",
    "for i in range(len(indeces_labels[1])):\n",
    "    index_label[indeces_labels[1][i]].append(indeces_labels[0][i])\n",
    "print(index_label)"
   ]
  },
  {
   "cell_type": "code",
   "execution_count": null,
   "id": "c80b9e81",
   "metadata": {},
   "outputs": [],
   "source": [
    "from itertools import combinations\n",
    "client_classes = []\n",
    "comb = []\n",
    "for i in list(combinations(list(range(0,c_num)), 2)):\n",
    "    print(i)\n",
    "    comb.append(i)\n",
    "print(comb)\n",
    "\n",
    "# classes of client\n",
    "for i in range(num_users):\n",
    "    client_classes.append(comb[i%c_num])\n",
    "client_classes = np.array(client_classes)\n",
    "c = client_classes.flatten()\n",
    "print(client_classes)\n",
    "\n",
    "# count of labels\n",
    "label_count = collections.Counter(c)\n",
    "print(label_count)"
   ]
  },
  {
   "cell_type": "code",
   "execution_count": null,
   "id": "93525c7a",
   "metadata": {},
   "outputs": [],
   "source": []
  },
  {
   "cell_type": "code",
   "execution_count": null,
   "id": "45459723",
   "metadata": {},
   "outputs": [],
   "source": [
    "indeces = [int(i) for i in indeces]\n",
    "print(indeces)\n",
    "for i in range(num_users):\n",
    "    np.random.seed(i)\n",
    "    temp = set(np.random.choice(classes_indx, 2, replace=False))\n",
    "    print(temp)\n",
    "    classes_indx = list(set(classes_indx) - temp)\n",
    "    for t in temp:\n",
    "        users_dict[i] = np.concatenate((users_dict[i], indeces[t*images:(t+1)*images]), axis=0)"
   ]
  },
  {
   "cell_type": "code",
   "execution_count": null,
   "id": "3187e74f",
   "metadata": {},
   "outputs": [],
   "source": []
  }
 ],
 "metadata": {
  "kernelspec": {
   "display_name": "Python 3",
   "language": "python",
   "name": "python3"
  },
  "language_info": {
   "codemirror_mode": {
    "name": "ipython",
    "version": 3
   },
   "file_extension": ".py",
   "mimetype": "text/x-python",
   "name": "python",
   "nbconvert_exporter": "python",
   "pygments_lexer": "ipython3",
   "version": "3.7.10"
  }
 },
 "nbformat": 4,
 "nbformat_minor": 5
}
