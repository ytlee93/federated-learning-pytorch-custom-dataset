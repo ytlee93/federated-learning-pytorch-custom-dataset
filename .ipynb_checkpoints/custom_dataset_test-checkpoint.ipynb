{
 "cells": [
  {
   "cell_type": "code",
   "execution_count": 2,
   "id": "3234b82f",
   "metadata": {},
   "outputs": [],
   "source": [
    "import torch\n",
    "import torch.nn as nn\n",
    "import torch.nn.functional as F\n",
    "import torch.optim as optim\n",
    "from torchvision import datasets, transforms\n",
    "from torch.utils.data import DataLoader, Dataset\n",
    "import syft as sy\n",
    "import copy\n",
    "import numpy as np\n",
    "import time\n",
    "from opacus import PrivacyEngine\n",
    "from torch.utils.tensorboard import SummaryWriter\n",
    "import random\n",
    "import collections\n",
    "\n",
    "import importlib\n",
    "importlib.import_module('FLDataset')\n",
    "from FLDataset import load_dataset, getActualImgs, CovidDataset, Rescale, ToTensor\n",
    "from utils import averageModels"
   ]
  },
  {
   "cell_type": "code",
   "execution_count": null,
   "id": "539a6337",
   "metadata": {},
   "outputs": [],
   "source": [
    "writer = SummaryWriter()"
   ]
  },
  {
   "cell_type": "code",
   "execution_count": null,
   "id": "caaeeb19",
   "metadata": {},
   "outputs": [],
   "source": [
    "dataset = CovidDataset(csv_path='./train.csv', transform=transforms.Compose([Rescale(64), ToTensor()]))\n",
    "print(type(dataset))"
   ]
  },
  {
   "cell_type": "code",
   "execution_count": null,
   "id": "549a9fef",
   "metadata": {},
   "outputs": [],
   "source": [
    "print(len(dataset))"
   ]
  },
  {
   "cell_type": "code",
   "execution_count": null,
   "id": "c862715a",
   "metadata": {},
   "outputs": [],
   "source": [
    "for i in range(len(dataset)):\n",
    "    item = dataset.__getitem__(i)\n",
    "    print(\"item \", i , \" image shape= \", item['image'].shape)"
   ]
  },
  {
   "cell_type": "code",
   "execution_count": null,
   "id": "0a35eff9",
   "metadata": {},
   "outputs": [],
   "source": [
    "dset = getActualImgs(dataset, [0,1,2], 1)\n",
    "print(type(dset))"
   ]
  },
  {
   "cell_type": "code",
   "execution_count": null,
   "id": "deab8074",
   "metadata": {
    "scrolled": true
   },
   "outputs": [],
   "source": [
    "for batch_idx, (data, target) in enumerate(dset):\n",
    "    print(data)"
   ]
  },
  {
   "cell_type": "code",
   "execution_count": 4,
   "id": "b804311b",
   "metadata": {},
   "outputs": [
    {
     "name": "stdout",
     "output_type": "stream",
     "text": [
      "[0 1] [1 2] [1 0]\n"
     ]
    }
   ],
   "source": [
    "\n",
    "a = np.random.choice(3, 2, replace=False)\n",
    "b = np.random.choice(3, 2, replace=False)\n",
    "c = np.random.choice(3, 2, replace=False)\n",
    "print(a, b, c)\n",
    "# collections.Counter(a)"
   ]
  },
  {
   "cell_type": "code",
   "execution_count": 7,
   "id": "5c0ba26a",
   "metadata": {},
   "outputs": [
    {
     "name": "stdout",
     "output_type": "stream",
     "text": [
      "[0, 1, 2]\n"
     ]
    }
   ],
   "source": [
    "classes_indx = [i for i in range(3)]\n",
    "print(classes_indx)"
   ]
  },
  {
   "cell_type": "code",
   "execution_count": 117,
   "id": "2fac3016",
   "metadata": {},
   "outputs": [
    {
     "name": "stdout",
     "output_type": "stream",
     "text": [
      "classes indx  [0, 1, 2]\n",
      "users_dict {0: array([], dtype=int64), 1: array([], dtype=int64), 2: array([], dtype=int64), 3: array([], dtype=int64), 4: array([], dtype=int64), 5: array([], dtype=int64), 6: array([], dtype=int64), 7: array([], dtype=int64), 8: array([], dtype=int64), 9: array([], dtype=int64)}\n"
     ]
    }
   ],
   "source": [
    "# non iid data test\n",
    "c_num = 3\n",
    "num_users = 10\n",
    "classes, images = c_num, int(300/c_num)\n",
    "classes_indx = [i for i in range(classes)]\n",
    "print(\"classes indx \", classes_indx)\n",
    "users_dict = {i: np.array([]).astype(int) for i in range(num_users)}\n",
    "print(\"users_dict\", users_dict)\n",
    "indeces = np.arange(classes*images)\n",
    "unsorted_labels = np.random.choice(3, 300)\n",
    "\n",
    "indeces_unsortedlabels = np.vstack((indeces, unsorted_labels))\n",
    "# print(\"indeces_unsortedlabels before shuffle: \", indeces_unsortedlabels)\n",
    "shuffled_indices = np.random.permutation(len(indeces_unsortedlabels[0]))\n",
    "indeces_unsortedlabels[0] = indeces_unsortedlabels[0][shuffled_indices]\n",
    "indeces_unsortedlabels[1] = indeces_unsortedlabels[1][shuffled_indices]\n",
    "# print(\"indeces_unsortedlabels after shuffle: \", indeces_unsortedlabels)\n",
    "indeces_labels = indeces_unsortedlabels[:, indeces_unsortedlabels[1, :].argsort()]\n",
    "indeces = indeces_labels[0, :]\n",
    "indeces_labels.astype(int)\n",
    "indeces.astype(int)\n",
    "\n",
    "# list stored by label \n",
    "index_label = [[] for i in range(c_num)]\n",
    "for i in range(len(indeces_labels[1])):\n",
    "    index_label[indeces_labels[1][i]].append(indeces_labels[0][i])\n",
    "# print(index_label)\n",
    "# print(len(index_label))"
   ]
  },
  {
   "cell_type": "code",
   "execution_count": 118,
   "id": "d783c100",
   "metadata": {},
   "outputs": [
    {
     "name": "stdout",
     "output_type": "stream",
     "text": [
      "(0, 1)\n",
      "(0, 2)\n",
      "(1, 2)\n",
      "[(0, 1), (0, 2), (1, 2)]\n",
      "[[0 1]\n",
      " [0 2]\n",
      " [1 2]\n",
      " [0 1]\n",
      " [0 2]\n",
      " [1 2]\n",
      " [0 1]\n",
      " [0 2]\n",
      " [1 2]\n",
      " [0 1]]\n",
      "Counter({0: 7, 1: 7, 2: 6})\n"
     ]
    }
   ],
   "source": [
    "from itertools import combinations\n",
    "client_classes = []\n",
    "comb = []\n",
    "for i in list(combinations(list(range(0,c_num)), 2)):\n",
    "    print(i)\n",
    "    comb.append(i)\n",
    "print(comb)\n",
    "\n",
    "# classes of client\n",
    "for i in range(num_users):\n",
    "    client_classes.append(comb[i%c_num])\n",
    "client_classes = np.array(client_classes)\n",
    "c = client_classes.flatten()\n",
    "print(client_classes)\n",
    "\n",
    "# count of labels\n",
    "label_count = collections.Counter(c)\n",
    "print(label_count)"
   ]
  },
  {
   "cell_type": "code",
   "execution_count": 119,
   "id": "d1c234ce",
   "metadata": {},
   "outputs": [],
   "source": [
    "def split(a, n):\n",
    "    k, m = divmod(len(a), n)\n",
    "    return (a[i*k+min(i, m):(i+1)*k+min(i+1, m)] for i in range(n))"
   ]
  },
  {
   "cell_type": "code",
   "execution_count": 120,
   "id": "8d907a8b",
   "metadata": {},
   "outputs": [],
   "source": [
    "for i in range(len(label_count)):\n",
    "    index_label[i] = split(index_label[i], label_count[i])\n",
    "    index_label[i] = list(index_label[i])"
   ]
  },
  {
   "cell_type": "code",
   "execution_count": 121,
   "id": "28e21cc5",
   "metadata": {},
   "outputs": [
    {
     "name": "stdout",
     "output_type": "stream",
     "text": [
      "[[24, 112, 141, 186, 64, 157, 270, 136, 222, 110, 176, 83, 94, 259], [68, 173, 87, 5, 145, 44, 191, 67, 38, 40, 62, 90, 147, 88], [76, 135, 41, 102, 251, 287, 253, 79, 263, 293, 125, 123, 103, 181], [126, 155, 248, 164, 18, 207, 91, 172, 137, 201, 262, 132, 276, 73], [114, 26, 230, 104, 168, 63, 71, 4, 166, 162, 224, 32, 23, 272], [57, 165, 159, 268, 33, 70, 14, 240, 252, 295, 163, 42, 128, 143], [236, 113, 169, 175, 60, 119, 277, 217, 48, 22, 7, 187, 180]]\n",
      "[[198, 61, 6, 108, 1, 82, 243, 220, 190, 99, 84, 49, 292, 205, 106, 246, 275], [160, 15, 19, 50, 9, 37, 107, 45, 208, 204, 144, 174, 257, 202, 299, 264], [261, 291, 153, 17, 151, 120, 130, 256, 280, 200, 244, 228, 53, 86, 21, 69], [124, 183, 29, 239, 101, 116, 199, 111, 197, 12, 223, 20, 283, 2, 258, 0], [95, 66, 238, 142, 8, 109, 129, 282, 115, 140, 254, 56, 148, 170, 189, 218], [146, 98, 214, 247, 134, 196, 271, 182, 30, 237, 233, 219, 100, 216, 296, 235], [209, 43, 194, 167, 105, 288, 284, 65, 185, 242, 178, 139, 81, 274, 127, 34]]\n",
      "[[294, 179, 195, 31, 273, 3, 260, 152, 36, 74, 211, 203, 138, 52, 269], [154, 75, 59, 13, 35, 177, 133, 80, 231, 77, 286, 265, 171, 250, 255], [212, 47, 58, 118, 28, 215, 11, 117, 156, 184, 93, 25, 227, 121, 221], [234, 281, 267, 193, 10, 289, 278, 161, 150, 149, 290, 229, 210, 298, 285], [245, 225, 158, 279, 39, 213, 97, 226, 297, 122, 206, 27, 78, 92, 131], [89, 188, 85, 249, 96, 51, 232, 192, 46, 54, 241, 55, 16, 266, 72]]\n"
     ]
    }
   ],
   "source": [
    "for i in index_label:\n",
    "    print(i)"
   ]
  },
  {
   "cell_type": "code",
   "execution_count": 122,
   "id": "46033505",
   "metadata": {},
   "outputs": [
    {
     "name": "stdout",
     "output_type": "stream",
     "text": [
      "users_dict  {0: [], 1: [], 2: [], 3: [], 4: [], 5: [], 6: [], 7: [], 8: [], 9: []}\n"
     ]
    }
   ],
   "source": [
    "temp = []\n",
    "users_dict = dict.fromkeys(range(10), [])\n",
    "print(\"users_dict \", users_dict)\n",
    "for i in range(len(client_classes)):\n",
    "    for j in range(len(client_classes[i])):\n",
    "        cur_cls = client_classes[i][j]\n",
    "        temp = index_label[cur_cls].pop()\n",
    "#         print(\"temp \", temp)\n",
    "        users_dict[i] = np.concatenate((users_dict[i], np.array(temp)), axis=0).astype(int)\n"
   ]
  },
  {
   "cell_type": "code",
   "execution_count": 123,
   "id": "7539de6f",
   "metadata": {},
   "outputs": [
    {
     "name": "stdout",
     "output_type": "stream",
     "text": [
      "{0: array([236, 113, 169, 175,  60, 119, 277, 217,  48,  22,   7, 187, 180,\n",
      "       209,  43, 194, 167, 105, 288, 284,  65, 185, 242, 178, 139,  81,\n",
      "       274, 127,  34]), 1: array([ 57, 165, 159, 268,  33,  70,  14, 240, 252, 295, 163,  42, 128,\n",
      "       143,  89, 188,  85, 249,  96,  51, 232, 192,  46,  54, 241,  55,\n",
      "        16, 266,  72]), 2: array([146,  98, 214, 247, 134, 196, 271, 182,  30, 237, 233, 219, 100,\n",
      "       216, 296, 235, 245, 225, 158, 279,  39, 213,  97, 226, 297, 122,\n",
      "       206,  27,  78,  92, 131]), 3: array([114,  26, 230, 104, 168,  63,  71,   4, 166, 162, 224,  32,  23,\n",
      "       272,  95,  66, 238, 142,   8, 109, 129, 282, 115, 140, 254,  56,\n",
      "       148, 170, 189, 218]), 4: array([126, 155, 248, 164,  18, 207,  91, 172, 137, 201, 262, 132, 276,\n",
      "        73, 234, 281, 267, 193,  10, 289, 278, 161, 150, 149, 290, 229,\n",
      "       210, 298, 285]), 5: array([124, 183,  29, 239, 101, 116, 199, 111, 197,  12, 223,  20, 283,\n",
      "         2, 258,   0, 212,  47,  58, 118,  28, 215,  11, 117, 156, 184,\n",
      "        93,  25, 227, 121, 221]), 6: array([ 76, 135,  41, 102, 251, 287, 253,  79, 263, 293, 125, 123, 103,\n",
      "       181, 261, 291, 153,  17, 151, 120, 130, 256, 280, 200, 244, 228,\n",
      "        53,  86,  21,  69]), 7: array([ 68, 173,  87,   5, 145,  44, 191,  67,  38,  40,  62,  90, 147,\n",
      "        88, 154,  75,  59,  13,  35, 177, 133,  80, 231,  77, 286, 265,\n",
      "       171, 250, 255]), 8: array([160,  15,  19,  50,   9,  37, 107,  45, 208, 204, 144, 174, 257,\n",
      "       202, 299, 264, 294, 179, 195,  31, 273,   3, 260, 152,  36,  74,\n",
      "       211, 203, 138,  52, 269]), 9: array([ 24, 112, 141, 186,  64, 157, 270, 136, 222, 110, 176,  83,  94,\n",
      "       259, 198,  61,   6, 108,   1,  82, 243, 220, 190,  99,  84,  49,\n",
      "       292, 205, 106, 246, 275])}\n"
     ]
    }
   ],
   "source": [
    "print(users_dict)"
   ]
  },
  {
   "cell_type": "code",
   "execution_count": null,
   "id": "ef000bef",
   "metadata": {},
   "outputs": [],
   "source": [
    "indeces = [int(i) for i in indeces]\n",
    "print(indeces)\n",
    "for i in range(num_users):\n",
    "    np.random.seed(i)\n",
    "    temp = set(np.random.choice(classes_indx, 2, replace=False))\n",
    "    print(temp)\n",
    "    classes_indx = list(set(classes_indx) - temp)\n",
    "    for t in temp:\n",
    "        users_dict[i] = np.concatenate((users_dict[i], indeces[t*images:(t+1)*images]), axis=0)"
   ]
  },
  {
   "cell_type": "code",
   "execution_count": null,
   "id": "8654fae4",
   "metadata": {},
   "outputs": [],
   "source": []
  }
 ],
 "metadata": {
  "kernelspec": {
   "display_name": "Python 3",
   "language": "python",
   "name": "python3"
  },
  "language_info": {
   "codemirror_mode": {
    "name": "ipython",
    "version": 3
   },
   "file_extension": ".py",
   "mimetype": "text/x-python",
   "name": "python",
   "nbconvert_exporter": "python",
   "pygments_lexer": "ipython3",
   "version": "3.7.10"
  }
 },
 "nbformat": 4,
 "nbformat_minor": 5
}
